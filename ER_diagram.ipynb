{
  "nbformat": 4,
  "nbformat_minor": 0,
  "metadata": {
    "colab": {
      "name": "ER diagram",
      "provenance": [],
      "authorship_tag": "ABX9TyNqOkMVqf6mPu+tIxhdXNK5",
      "include_colab_link": true
    },
    "kernelspec": {
      "name": "python3",
      "display_name": "Python 3"
    }
  },
  "cells": [
    {
      "cell_type": "markdown",
      "metadata": {
        "id": "view-in-github",
        "colab_type": "text"
      },
      "source": [
        "<a href=\"https://colab.research.google.com/github/Davidaguiles/pet-er-2/blob/master/ER_diagram.ipynb\" target=\"_parent\"><img src=\"https://colab.research.google.com/assets/colab-badge.svg\" alt=\"Open In Colab\"/></a>"
      ]
    },
    {
      "cell_type": "markdown",
      "metadata": {
        "id": "rZyWFzcx69ji",
        "colab_type": "text"
      },
      "source": [
        "Pet ER diagram "
      ]
    },
    {
      "cell_type": "code",
      "metadata": {
        "id": "iF6LIFZ5_Dmf",
        "colab_type": "code",
        "colab": {}
      },
      "source": [
        ""
      ],
      "execution_count": 0,
      "outputs": []
    },
    {
      "cell_type": "markdown",
      "metadata": {
        "id": "lOFSPUdb7sgT",
        "colab_type": "text"
      },
      "source": [
        "![alt text](https://raw.githubusercontent.com/Davidaguiles/pet-er-2/master/Er%20diagram.png)"
      ]
    },
    {
      "cell_type": "markdown",
      "metadata": {
        "id": "tUqMhho68orU",
        "colab_type": "text"
      },
      "source": [
        "The ER diagram above was made to make the pet shop run smoother. It does this by clearly identifying the important simple attributes that create and run the Pet shop. This starts with the most important factor, the customer. In my diagagram the customer is the middle of the diagram with five connectivity lines coming out of it. Within the customer table is three attributes; name, email and loyalty program. To me these are the three most important attributes that connects the customer to the rest of the tables. Connected to the customer table by a one to many symbol is both the fish table and the pet table. Within both these tables are two attributes that relate; food and enclosure/aquarium. When tracing these tables back to the customer a one to one symbol is used because the customer will usually end purchasing one of each of the items. The next connectivity that is symbolized by two one to one symbols is food expenses and pet expenses. Both contain specific attributes. Food expenses begin with the most important attribute which is the barcode. The pet expenses begin with the Pet ID and then goes into the different characteristics of the actual animal being purchased. Lastly, the customers table is linked to the Loyalty program/points table. This table begins with the customer ID, to identify the customer and then attributes that further specify the customer, which allows them to correctly recieve loyalty points with each purchase. This table is connected by a one to one and a 0 to many, because the loyalty program belongs to one person and there can be 0 to many points. I believe this ER diagram will allow the pet shop to run smoothly and definitely keep it organized. "
      ]
    }
  ]
}